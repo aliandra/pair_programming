{
 "cells": [
  {
   "cell_type": "markdown",
   "metadata": {},
   "source": [
    "### Pair Problem #1\n",
    "\n",
    "Given a string, write a function to reverse it. Do this using a loop, if possible.\n",
    "\n",
    "```\n",
    "reverseString('abcdef') will return 'fedcba'\n",
    "reverseString('moon') will return 'noom'\n",
    "```"
   ]
  },
  {
   "cell_type": "code",
   "execution_count": 28,
   "metadata": {
    "collapsed": false
   },
   "outputs": [
    {
     "name": "stdout",
     "output_type": "stream",
     "text": [
      "fedcba\n",
      "noom\n"
     ]
    }
   ],
   "source": [
    "def reverseString1(mystring):\n",
    "    newstring = ''\n",
    "    for i in range(1, len(mystring)+1):\n",
    "        newstring = newstring + mystring[len(mystring) - i]\n",
    "    return newstring\n",
    "        \n",
    "\n",
    "print reverseString1('abcdef')\n",
    "print reverseString1('moon')"
   ]
  },
  {
   "cell_type": "code",
   "execution_count": 25,
   "metadata": {
    "collapsed": false
   },
   "outputs": [
    {
     "name": "stdout",
     "output_type": "stream",
     "text": [
      "fedcba\n",
      "noom\n"
     ]
    }
   ],
   "source": [
    "def reverseString(s):\n",
    "    r = ''\n",
    "    for i in s:\n",
    "        r = i + r\n",
    "    return r\n",
    "\n",
    "print reverseString('abcdef')\n",
    "print reverseString('moon')      "
   ]
  },
  {
   "cell_type": "markdown",
   "metadata": {},
   "source": [
    "### Pair Problem #2\n",
    "\n",
    "Sal's classroom has a bag of alphabet magnets. She wants to know if she can spell her friend's name using the letters in the bag. Write a function that will take a list of alphabets and a name and print out yes if the name can be spelled and no otherwise.\n",
    "\n",
    "```\n",
    "CanYouSpell(['y','n','p','g','n','l'],\"lynn\") would print YES\n",
    "CanYouSpell(['y','n','p','g','l'],\"lynn\") would print NO\n",
    "```"
   ]
  },
  {
   "cell_type": "code",
   "execution_count": 11,
   "metadata": {
    "collapsed": false
   },
   "outputs": [
    {
     "name": "stdout",
     "output_type": "stream",
     "text": [
      "YES\n",
      "NO\n"
     ]
    }
   ],
   "source": [
    "def CanYouSpell1(letters, name):\n",
    "    for i in name:\n",
    "        if i not in letters:\n",
    "            print 'NO'\n",
    "            return\n",
    "        else:\n",
    "            index = letters.index(i)\n",
    "            letters.pop(index)\n",
    "    print 'YES'\n",
    "\n",
    "CanYouSpell1(['y','n','p','g','n','l'],\"lynn\")\n",
    "CanYouSpell1(['y','n','p','g','l'],\"lynn\")"
   ]
  },
  {
   "cell_type": "code",
   "execution_count": 26,
   "metadata": {
    "collapsed": false
   },
   "outputs": [
    {
     "name": "stdout",
     "output_type": "stream",
     "text": [
      "YES\n",
      "NO\n"
     ]
    }
   ],
   "source": [
    "def CanYouSpell(letters, name):\n",
    "    d = {}\n",
    "    for letter in letters:\n",
    "        d[letter] = d.get(letter, 0) + 1\n",
    "    for i in set(name):\n",
    "        n = name.count(i)\n",
    "        if d[i] < n:\n",
    "            print \"NO\"\n",
    "            return\n",
    "    print \"YES\"\n",
    "\n",
    "CanYouSpell(['y','n','p','g','n','l'],\"lynn\")\n",
    "CanYouSpell(['y','n','p','g','l'],\"lynn\")"
   ]
  },
  {
   "cell_type": "code",
   "execution_count": 18,
   "metadata": {
    "collapsed": false
   },
   "outputs": [
    {
     "name": "stdout",
     "output_type": "stream",
     "text": [
      "['y', 'p', 'l', 'g', 'n']\n"
     ]
    }
   ],
   "source": [
    " a = list(set(['y','n','p','g','n','l']))\n",
    "print a"
   ]
  },
  {
   "cell_type": "code",
   "execution_count": null,
   "metadata": {
    "collapsed": true
   },
   "outputs": [],
   "source": []
  }
 ],
 "metadata": {
  "anaconda-cloud": {},
  "kernelspec": {
   "display_name": "Python [default]",
   "language": "python",
   "name": "python2"
  },
  "language_info": {
   "codemirror_mode": {
    "name": "ipython",
    "version": 2
   },
   "file_extension": ".py",
   "mimetype": "text/x-python",
   "name": "python",
   "nbconvert_exporter": "python",
   "pygments_lexer": "ipython2",
   "version": "2.7.12"
  }
 },
 "nbformat": 4,
 "nbformat_minor": 1
}
