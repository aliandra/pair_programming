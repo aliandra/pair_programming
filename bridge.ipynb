{
 "cells": [
  {
   "cell_type": "markdown",
   "metadata": {},
   "source": [
    "### Pair Problem\n",
    "\n",
    "Bridge crossing\n",
    "\n",
    "N walkers need to cross a footbridge. Each person has a specific time it would take them to cross the bridge. Atmost two people can go together (and in that case, the time taken will be the maximum of the two). Also, they need a flashlight to cross and there is only one flashlight available.\n",
    "\n",
    "Given a list of times for the N walkers, compute the minimum time needed for the entire group to cross.\n",
    "\n",
    "For example, given [1,2,3]. 1 & 2 would cross (time taken = 2). 1 will come back with the flashlight (time taken = 1). 1 & 3 would cross (time taken =3). So a total of 2+1+3=6.\n",
    "\n",
    "This is a challenging problem. Your solution doesn't have to get the minimum time. Come up with some heuristic and compute the crossing time for it. Then see if you can improve your heuristic."
   ]
  },
  {
   "cell_type": "code",
   "execution_count": 26,
   "metadata": {
    "collapsed": true
   },
   "outputs": [],
   "source": [
    "def bridge_cross(my_list):\n",
    "    start = sorted(my_list)\n",
    "    end = []\n",
    "    crossing = []\n",
    "    fastest = start[:2]\n",
    "    time = 0\n",
    "    if fastest[0] in start and fastest[1] in start:\n",
    "        start = sorted(start)\n",
    "        crossing.append(start.pop(0))\n",
    "        crossing.append(start.pop(0))\n",
    "        time += max(crossing)\n",
    "        end.append(crossing.pop(0))\n",
    "        end.append(crossing.pop(0))\n",
    "    elif fastest[0] in end and fastest[1] in end:\n",
    "        end = sorted(end)\n",
    "        crossing.append(end.pop(0))\n",
    "    print start, end, crossing, time"
   ]
  },
  {
   "cell_type": "code",
   "execution_count": 27,
   "metadata": {
    "collapsed": false
   },
   "outputs": [
    {
     "name": "stdout",
     "output_type": "stream",
     "text": [
      "[2, 4, 6] [] [1, 1] 1\n"
     ]
    }
   ],
   "source": [
    "bridge_cross([1, 4, 6, 2, 1])"
   ]
  },
  {
   "cell_type": "code",
   "execution_count": 13,
   "metadata": {
    "collapsed": false
   },
   "outputs": [
    {
     "data": {
      "text/plain": [
       "4"
      ]
     },
     "execution_count": 13,
     "metadata": {},
     "output_type": "execute_result"
    }
   ],
   "source": []
  },
  {
   "cell_type": "code",
   "execution_count": null,
   "metadata": {
    "collapsed": true
   },
   "outputs": [],
   "source": []
  }
 ],
 "metadata": {
  "kernelspec": {
   "display_name": "Python [conda root]",
   "language": "python",
   "name": "conda-root-py"
  },
  "language_info": {
   "codemirror_mode": {
    "name": "ipython",
    "version": 2
   },
   "file_extension": ".py",
   "mimetype": "text/x-python",
   "name": "python",
   "nbconvert_exporter": "python",
   "pygments_lexer": "ipython2",
   "version": "2.7.12"
  }
 },
 "nbformat": 4,
 "nbformat_minor": 1
}
