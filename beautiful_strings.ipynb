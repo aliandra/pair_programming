{
 "cells": [
  {
   "cell_type": "markdown",
   "metadata": {},
   "source": [
    "### Pair Problem\n",
    "\n",
    "CodeEval is a site with a lot of problems you can solve. Solving CodeEval problems is a fun way to work on your coding skills.\n",
    "\n",
    "If you make an account on CodeEval, you can submit code that will run on their system and be evaluated against their test data, so you'll know whether you've solved a problem correctly.\n",
    "\n",
    "Solve the CodeEval Beautiful Strings challenge:"
   ]
  },
  {
   "cell_type": "markdown",
   "metadata": {},
   "source": [
    "When John was a little kid he didn't have much to do. There was no internet, no Facebook, and no programs to hack on. So he did the only thing he could... he evaluated the beauty of strings in a quest to discover the most beautiful string in the world. \n",
    "\n",
    "Given a string s, little Johnny defined the beauty of the string as the sum of the beauty of the letters in it. The beauty of each letter is an integer between 1 and 26, inclusive, and no two letters have the same beauty. Johnny doesn't care about whether letters are uppercase or lowercase, so that doesn't affect the beauty of a letter. (Uppercase 'F' is exactly as beautiful as lowercase 'f', for example.) \n",
    "\n",
    "You're a student writing a report on the youth of this famous hacker. You found the string that Johnny considered most beautiful. What is the maximum possible beauty of this string?"
   ]
  },
  {
   "cell_type": "code",
   "execution_count": 18,
   "metadata": {
    "collapsed": false
   },
   "outputs": [],
   "source": [
    "filename = 'pair.txt'\n",
    "with open(filename) as f:\n",
    "    content = f.readlines()"
   ]
  },
  {
   "cell_type": "code",
   "execution_count": 19,
   "metadata": {
    "collapsed": false
   },
   "outputs": [
    {
     "data": {
      "text/plain": [
       "['ABbCcc\\n',\n",
       " 'Good luck in the Facebook Hacker Cup this year!\\n',\n",
       " 'Ignore punctuation, please :)\\n',\n",
       " 'Sometimes test cases are hard to make up.\\n',\n",
       " 'So I just go consult Professor Dalves\\n']"
      ]
     },
     "execution_count": 19,
     "metadata": {},
     "output_type": "execute_result"
    }
   ],
   "source": [
    "content"
   ]
  },
  {
   "cell_type": "code",
   "execution_count": 76,
   "metadata": {
    "collapsed": false
   },
   "outputs": [],
   "source": [
    "import string\n",
    "from collections import defaultdict\n",
    "import numpy as np"
   ]
  },
  {
   "cell_type": "code",
   "execution_count": 77,
   "metadata": {
    "collapsed": false
   },
   "outputs": [],
   "source": [
    "def beautifulString(my_string):\n",
    "    my_string = my_string.strip().lower().replace(' ', '').translate(None, string.punctuation)\n",
    "    d = defaultdict(int)\n",
    "    for i in my_string:\n",
    "        d[i] += 1\n",
    "    my_list = d.items()\n",
    "    my_list = sorted(my_list, key=lambda x: x[1], reverse=True)\n",
    "    char, val = zip(*my_list)\n",
    "    l = len(val)\n",
    "    value_key = range(1, 27)\n",
    "    value_key = value_key[:26-l-1:-1]\n",
    "    answer = np.dot(val, value_key)\n",
    "    return answer"
   ]
  },
  {
   "cell_type": "code",
   "execution_count": 80,
   "metadata": {
    "collapsed": false
   },
   "outputs": [
    {
     "name": "stdout",
     "output_type": "stream",
     "text": [
      "152\n",
      "754\n",
      "491\n",
      "729\n",
      "646\n"
     ]
    }
   ],
   "source": [
    "for x in content:\n",
    "    print beautifulString(x)"
   ]
  },
  {
   "cell_type": "code",
   "execution_count": null,
   "metadata": {
    "collapsed": true
   },
   "outputs": [],
   "source": []
  }
 ],
 "metadata": {
  "anaconda-cloud": {},
  "kernelspec": {
   "display_name": "Python [conda root]",
   "language": "python",
   "name": "conda-root-py"
  },
  "language_info": {
   "codemirror_mode": {
    "name": "ipython",
    "version": 2
   },
   "file_extension": ".py",
   "mimetype": "text/x-python",
   "name": "python",
   "nbconvert_exporter": "python",
   "pygments_lexer": "ipython2",
   "version": "2.7.12"
  }
 },
 "nbformat": 4,
 "nbformat_minor": 1
}
