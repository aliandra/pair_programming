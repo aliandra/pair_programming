{
 "cells": [
  {
   "cell_type": "markdown",
   "metadata": {},
   "source": [
    "### Pair Problem\n",
    "\n",
    "Another one from Project Euler: Problem 3:\n",
    "\n",
    "> The prime factors of 13195 are 5, 7, 13 and 29.  \n",
    "What is the largest prime factor of the number 600851475143 ?\n",
    "\n",
    "Please do not Google. See how best you can solve this problem on your own.\n",
    "\n",
    "What's your the complexity? Can you do better?"
   ]
  },
  {
   "cell_type": "code",
   "execution_count": 9,
   "metadata": {
    "collapsed": false
   },
   "outputs": [
    {
     "name": "stdout",
     "output_type": "stream",
     "text": [
      "29\n",
      "6857\n"
     ]
    }
   ],
   "source": [
    "import math\n",
    "\n",
    "def check_prime(n):\n",
    "    square_root = math.sqrt(n)\n",
    "    is_prime = True\n",
    "    for i in range(2, int(math.ceil(math.sqrt(n) + 1))):\n",
    "        if n % i == 0 and n != i:\n",
    "            is_prime = False\n",
    "    return is_prime\n",
    "        \n",
    "def largest_prime(n):\n",
    "    factors = []\n",
    "    n1 = math.ceil(math.sqrt(n))\n",
    "    max_p = 0\n",
    "    for i in range(2, int(n1 +1)):\n",
    "        if n % i == 0:\n",
    "            factors.append(i)\n",
    "            factors.append(n / i)\n",
    "    for num in factors:\n",
    "        if check_prime(num):\n",
    "            if num > max_p:\n",
    "                max_p = num\n",
    "    return max_p\n",
    "\n",
    "print largest_prime(13195)\n",
    "print largest_prime(600851475143)"
   ]
  },
  {
   "cell_type": "code",
   "execution_count": 13,
   "metadata": {
    "collapsed": false
   },
   "outputs": [
    {
     "data": {
      "text/plain": [
       "13"
      ]
     },
     "execution_count": 13,
     "metadata": {},
     "output_type": "execute_result"
    }
   ],
   "source": [
    "def large_prime(n):\n",
    "    i = 2\n",
    "    while i <= math.sqrt(n):\n",
    "        if n % i == 0:\n",
    "            n = n / i\n",
    "        else:\n",
    "            i += 1\n",
    "    return i\n",
    "\n",
    "large_prime(13195)"
   ]
  },
  {
   "cell_type": "code",
   "execution_count": null,
   "metadata": {
    "collapsed": false
   },
   "outputs": [],
   "source": []
  },
  {
   "cell_type": "code",
   "execution_count": null,
   "metadata": {
    "collapsed": true
   },
   "outputs": [],
   "source": []
  }
 ],
 "metadata": {
  "anaconda-cloud": {},
  "kernelspec": {
   "display_name": "Python [conda root]",
   "language": "python",
   "name": "conda-root-py"
  },
  "language_info": {
   "codemirror_mode": {
    "name": "ipython",
    "version": 2
   },
   "file_extension": ".py",
   "mimetype": "text/x-python",
   "name": "python",
   "nbconvert_exporter": "python",
   "pygments_lexer": "ipython2",
   "version": "2.7.12"
  }
 },
 "nbformat": 4,
 "nbformat_minor": 1
}
