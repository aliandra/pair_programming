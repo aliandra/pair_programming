{
 "cells": [
  {
   "cell_type": "markdown",
   "metadata": {},
   "source": [
    "### Pair Problem\n",
    "\n",
    "A version of this problem was faced at a whiteboard by a Metis student in an interview for a data scientist position on April 16, 2015.\n",
    "\n",
    "In programming languages, and especially in Lisps, there can be a lot of parentheses. The parentheses have to be \"balanced\" to be valid. For example, ()(()) is balanced, but ()()) is not balanced. Also, )((()) is not balanced.\n",
    "\n",
    "Write a function that takes a string and returns True if the string's parentheses are balanced, False if they are not.\n",
    "\n",
    "This is fairly easy. Once you are finished, see if you can come up with a second way to solve the problem.\n",
    "\n",
    "Here are examples to test your function with:\n",
    "\n",
    "(()()()()) should return True  \n",
    "(((()))) should return True  \n",
    "(()((())())) should return True  \n",
    "((((((()) should return False  \n",
    "())) should return False  \n",
    "(()()))(() should return False  "
   ]
  },
  {
   "cell_type": "code",
   "execution_count": 60,
   "metadata": {
    "collapsed": false
   },
   "outputs": [],
   "source": [
    "def balanced(my_string):\n",
    "    index = my_string.rindex('(')\n",
    "    try:\n",
    "        if my_list[index + 1] == ')':\n",
    "            if len(my_list) == 2:\n",
    "                return True\n",
    "            else:\n",
    "                my_string = my_string.replace('()', '')\n",
    "                result = balanced(my_string2)\n",
    "        else:\n",
    "            return False\n",
    "    except:\n",
    "        return False\n",
    "    return result"
   ]
  },
  {
   "cell_type": "code",
   "execution_count": 61,
   "metadata": {
    "collapsed": false
   },
   "outputs": [
    {
     "data": {
      "text/plain": [
       "False"
      ]
     },
     "execution_count": 61,
     "metadata": {},
     "output_type": "execute_result"
    }
   ],
   "source": [
    "balanced('((((((())')"
   ]
  },
  {
   "cell_type": "code",
   "execution_count": 28,
   "metadata": {
    "collapsed": false
   },
   "outputs": [
    {
     "data": {
      "text/plain": [
       "0"
      ]
     },
     "execution_count": 28,
     "metadata": {},
     "output_type": "execute_result"
    }
   ],
   "source": []
  },
  {
   "cell_type": "code",
   "execution_count": 30,
   "metadata": {
    "collapsed": false
   },
   "outputs": [
    {
     "data": {
      "text/plain": [
       "0"
      ]
     },
     "execution_count": 30,
     "metadata": {},
     "output_type": "execute_result"
    }
   ],
   "source": []
  },
  {
   "cell_type": "code",
   "execution_count": null,
   "metadata": {
    "collapsed": true
   },
   "outputs": [],
   "source": []
  }
 ],
 "metadata": {
  "anaconda-cloud": {},
  "kernelspec": {
   "display_name": "Python [conda root]",
   "language": "python",
   "name": "conda-root-py"
  },
  "language_info": {
   "codemirror_mode": {
    "name": "ipython",
    "version": 2
   },
   "file_extension": ".py",
   "mimetype": "text/x-python",
   "name": "python",
   "nbconvert_exporter": "python",
   "pygments_lexer": "ipython2",
   "version": "2.7.12"
  }
 },
 "nbformat": 4,
 "nbformat_minor": 1
}
