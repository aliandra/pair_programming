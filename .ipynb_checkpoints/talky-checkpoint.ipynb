{
 "cells": [
  {
   "cell_type": "markdown",
   "metadata": {},
   "source": [
    "### Pair Problem\n",
    "\n",
    "This function is boring:\n",
    "```python\n",
    "def square(x):\n",
    "    return x * x\n",
    "\n",
    "square(5)\n",
    "## 25\n",
    "```\n",
    "Write a decorator called talky so that when you run this:\n",
    "```python\n",
    "@talky\n",
    "def square(x):\n",
    "    return x * x\n",
    "\n",
    "answer = square(5)\n",
    "```\n",
    "You get the following output:\n",
    "```python\n",
    "Oh hi!\n",
    "The result sure is 25!\n",
    "```\n",
    "\n",
    "Extension: Write a decorator talky_with, so that when you run this:\n",
    "```python\n",
    "@talky_with(\"Aaron\")\n",
    "def square(x):\n",
    "    return x * x\n",
    "\n",
    "answer = square(5)\n",
    "```\n",
    "You get the following output:\n",
    "```python\n",
    "Oh hi! I'm Aaron.\n",
    "The result sure is 25!\n",
    "```"
   ]
  },
  {
   "cell_type": "code",
   "execution_count": 7,
   "metadata": {
    "collapsed": false
   },
   "outputs": [
    {
     "name": "stdout",
     "output_type": "stream",
     "text": [
      "Oh hi!\n",
      "The result sure is 25\n"
     ]
    }
   ],
   "source": [
    "def talky(f):\n",
    "    def inner(x):\n",
    "        print \"Oh hi!\\nThe result sure is %d\" % f(x)\n",
    "    return inner\n",
    "\n",
    "@talky\n",
    "def square(x):\n",
    "    return x * x\n",
    "\n",
    "answer = square(5)"
   ]
  },
  {
   "cell_type": "code",
   "execution_count": 8,
   "metadata": {
    "collapsed": false
   },
   "outputs": [
    {
     "name": "stdout",
     "output_type": "stream",
     "text": [
      "Oh hi! I'm Ali.\n",
      "The result sure is 25\n"
     ]
    }
   ],
   "source": [
    "def talky_with(name):\n",
    "    def outter(f):\n",
    "        def inner(x):\n",
    "            print \"Oh hi! I'm %s.\\nThe result sure is %d\" % (name, f(x))\n",
    "        return inner\n",
    "    return outter\n",
    "\n",
    "@talky_with(\"Ali\")\n",
    "def square(x):\n",
    "    return x * x\n",
    "\n",
    "answer = square(5)"
   ]
  },
  {
   "cell_type": "code",
   "execution_count": null,
   "metadata": {
    "collapsed": true
   },
   "outputs": [],
   "source": []
  }
 ],
 "metadata": {
  "anaconda-cloud": {},
  "kernelspec": {
   "display_name": "Python [conda root]",
   "language": "python",
   "name": "conda-root-py"
  },
  "language_info": {
   "codemirror_mode": {
    "name": "ipython",
    "version": 2
   },
   "file_extension": ".py",
   "mimetype": "text/x-python",
   "name": "python",
   "nbconvert_exporter": "python",
   "pygments_lexer": "ipython2",
   "version": "2.7.12"
  }
 },
 "nbformat": 4,
 "nbformat_minor": 1
}
