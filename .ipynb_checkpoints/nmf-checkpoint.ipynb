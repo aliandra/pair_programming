{
 "cells": [
  {
   "cell_type": "markdown",
   "metadata": {},
   "source": [
    "Clustering and Topic Modeling using NMF\n",
    "\n",
    "```python\n",
    "0) Get the pre-processed [BBC dataset here](http://mlg.ucd.ie/files/datasets/bbc.zip)\n",
    "1) There are articles collected from 5 different topics, and the data pre-processed\n",
    "2) Use the data to build a sparse matrix (or regular matrix)\n",
    "3) run NMF to first do clustering on the articles\n",
    "4) use NMF to attempt Topic Modeling\n",
    "More details on each step:\n",
    "```\n",
    "0) bbc.terms is just a list of words and bbc.docs is a list of artcles listed by topic. And bbc.mtx is a list: first column is wordID, second is articleID and the third is the number of times that word appeared in that article.\n",
    "\n",
    "1) To read a file into a list (each line will be a string in that list), you can do this:\n",
    "```python\n",
    "    with open(filename) as f:\n",
    "        content = f.readlines()\n",
    "```\n",
    "2) To build a matrix, all you need is the bbc.mtx file. Look up coo style sparse matrix. Or just build a regular matrix.\n",
    "\n",
    "3) Once you have the matrix, it's just a matter of calling NMF with the number of components equals five (we luckily know that there are 5 types of articles in our dataset). NMF will return a N x 5 matrix. For each articles it says how much of each of the 5 topics it belongs to. Take the max and assign each articles to the cooresponding cluster. Since we have the topics for each of the article (in the bbc.docs file), we can compare and see how well our clustering performed.\n",
    "\n",
    "4) NMF.components_ is a 5 x M matrix. Each feature (topic) has a long vector of words associated with it. Find the top 5 to 10 words for each topic and print them out and see if we can come up with topics based on the set of words."
   ]
  },
  {
   "cell_type": "code",
   "execution_count": 1,
   "metadata": {
    "collapsed": true
   },
   "outputs": [],
   "source": [
    "with open('bbc/bbc.classes') as f:\n",
    "    classes = f.readlines()\n",
    "    \n",
    "with open('bbc/bbc.docs') as f:\n",
    "    docs = f.readlines()\n",
    "    \n",
    "with open('bbc/bbc.mtx') as f:\n",
    "    mtx = f.readlines()\n",
    "    \n",
    "with open('bbc/bbc.terms') as f:\n",
    "    terms = f.readlines()\n",
    "\n",
    "mtx = mtx[2:]"
   ]
  },
  {
   "cell_type": "code",
   "execution_count": 2,
   "metadata": {
    "collapsed": true
   },
   "outputs": [],
   "source": [
    "mat = []\n",
    "for line in mtx:\n",
    "    mat.append(line.split())"
   ]
  },
  {
   "cell_type": "code",
   "execution_count": 3,
   "metadata": {
    "collapsed": false
   },
   "outputs": [],
   "source": [
    "import pandas as pd\n",
    "\n",
    "data = pd.DataFrame(mat)\n",
    "data.columns = [['r', 'c', 'data']]\n",
    "\n",
    "for column in data.columns:\n",
    "    data[column] = data[column].apply(float)\n",
    "    data[column] = data[column].apply(int)"
   ]
  },
  {
   "cell_type": "code",
   "execution_count": 4,
   "metadata": {
    "collapsed": false
   },
   "outputs": [
    {
     "data": {
      "text/html": [
       "<div>\n",
       "<table border=\"1\" class=\"dataframe\">\n",
       "  <thead>\n",
       "    <tr style=\"text-align: right;\">\n",
       "      <th></th>\n",
       "      <th>r</th>\n",
       "      <th>c</th>\n",
       "      <th>data</th>\n",
       "    </tr>\n",
       "  </thead>\n",
       "  <tbody>\n",
       "    <tr>\n",
       "      <th>0</th>\n",
       "      <td>1</td>\n",
       "      <td>1</td>\n",
       "      <td>1</td>\n",
       "    </tr>\n",
       "    <tr>\n",
       "      <th>1</th>\n",
       "      <td>1</td>\n",
       "      <td>7</td>\n",
       "      <td>2</td>\n",
       "    </tr>\n",
       "    <tr>\n",
       "      <th>2</th>\n",
       "      <td>1</td>\n",
       "      <td>11</td>\n",
       "      <td>1</td>\n",
       "    </tr>\n",
       "    <tr>\n",
       "      <th>3</th>\n",
       "      <td>1</td>\n",
       "      <td>14</td>\n",
       "      <td>1</td>\n",
       "    </tr>\n",
       "    <tr>\n",
       "      <th>4</th>\n",
       "      <td>1</td>\n",
       "      <td>15</td>\n",
       "      <td>2</td>\n",
       "    </tr>\n",
       "  </tbody>\n",
       "</table>\n",
       "</div>"
      ],
      "text/plain": [
       "   r   c  data\n",
       "0  1   1     1\n",
       "1  1   7     2\n",
       "2  1  11     1\n",
       "3  1  14     1\n",
       "4  1  15     2"
      ]
     },
     "execution_count": 4,
     "metadata": {},
     "output_type": "execute_result"
    }
   ],
   "source": [
    "data.head()"
   ]
  },
  {
   "cell_type": "code",
   "execution_count": 5,
   "metadata": {
    "collapsed": false
   },
   "outputs": [
    {
     "data": {
      "text/html": [
       "<div>\n",
       "<table border=\"1\" class=\"dataframe\">\n",
       "  <thead>\n",
       "    <tr style=\"text-align: right;\">\n",
       "      <th></th>\n",
       "      <th>r</th>\n",
       "      <th>c</th>\n",
       "      <th>data</th>\n",
       "    </tr>\n",
       "  </thead>\n",
       "  <tbody>\n",
       "    <tr>\n",
       "      <th>0</th>\n",
       "      <td>1</td>\n",
       "      <td>1</td>\n",
       "      <td>1</td>\n",
       "    </tr>\n",
       "    <tr>\n",
       "      <th>1</th>\n",
       "      <td>1</td>\n",
       "      <td>7</td>\n",
       "      <td>2</td>\n",
       "    </tr>\n",
       "    <tr>\n",
       "      <th>2</th>\n",
       "      <td>1</td>\n",
       "      <td>11</td>\n",
       "      <td>1</td>\n",
       "    </tr>\n",
       "    <tr>\n",
       "      <th>3</th>\n",
       "      <td>1</td>\n",
       "      <td>14</td>\n",
       "      <td>1</td>\n",
       "    </tr>\n",
       "    <tr>\n",
       "      <th>4</th>\n",
       "      <td>1</td>\n",
       "      <td>15</td>\n",
       "      <td>2</td>\n",
       "    </tr>\n",
       "  </tbody>\n",
       "</table>\n",
       "</div>"
      ],
      "text/plain": [
       "   r   c  data\n",
       "0  1   1     1\n",
       "1  1   7     2\n",
       "2  1  11     1\n",
       "3  1  14     1\n",
       "4  1  15     2"
      ]
     },
     "execution_count": 5,
     "metadata": {},
     "output_type": "execute_result"
    }
   ],
   "source": [
    "data.head()"
   ]
  },
  {
   "cell_type": "code",
   "execution_count": 6,
   "metadata": {
    "collapsed": false
   },
   "outputs": [],
   "source": [
    "from scipy.sparse import coo_matrix\n",
    "import numpy as np\n",
    "\n",
    "r  = np.array(data.r)\n",
    "c  = np.array(data.c)\n",
    "d = np.array(data.data)\n",
    "\n",
    "coo_mat = coo_matrix((d, (r, c)))"
   ]
  },
  {
   "cell_type": "code",
   "execution_count": 7,
   "metadata": {
    "collapsed": false
   },
   "outputs": [
    {
     "data": {
      "text/plain": [
       "(9636, 2226)"
      ]
     },
     "execution_count": 7,
     "metadata": {},
     "output_type": "execute_result"
    }
   ],
   "source": [
    "coo_mat.shape"
   ]
  },
  {
   "cell_type": "code",
   "execution_count": 8,
   "metadata": {
    "collapsed": false
   },
   "outputs": [],
   "source": [
    "from sklearn.decomposition import NMF\n",
    "\n",
    "nmf = NMF(n_components=5, random_state=1, alpha=.1, l1_ratio=.5).fit_transform(coo_mat)"
   ]
  },
  {
   "cell_type": "code",
   "execution_count": 9,
   "metadata": {
    "collapsed": false
   },
   "outputs": [
    {
     "data": {
      "text/plain": [
       "(9636, 5)"
      ]
     },
     "execution_count": 9,
     "metadata": {},
     "output_type": "execute_result"
    }
   ],
   "source": [
    "nmf.shape"
   ]
  },
  {
   "cell_type": "code",
   "execution_count": null,
   "metadata": {
    "collapsed": true
   },
   "outputs": [],
   "source": []
  }
 ],
 "metadata": {
  "anaconda-cloud": {},
  "kernelspec": {
   "display_name": "Python [conda root]",
   "language": "python",
   "name": "conda-root-py"
  },
  "language_info": {
   "codemirror_mode": {
    "name": "ipython",
    "version": 2
   },
   "file_extension": ".py",
   "mimetype": "text/x-python",
   "name": "python",
   "nbconvert_exporter": "python",
   "pygments_lexer": "ipython2",
   "version": "2.7.12"
  }
 },
 "nbformat": 4,
 "nbformat_minor": 1
}
