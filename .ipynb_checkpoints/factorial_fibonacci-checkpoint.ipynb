{
 "cells": [
  {
   "cell_type": "markdown",
   "metadata": {},
   "source": [
    "### Pair Problem #1: FACTORIAL\n",
    "\n",
    "Factorial(n) written as n! is the product of all the numbers up to n. 8! = 1 x 2 x 3 x 4 x 5 x 6 x 7 x 8 = 40320\n",
    "\n",
    "Write a function to calculate the factorial of a given number.\n",
    "\n",
    "```def factorial(n):```\n",
    "\n",
    "Once done, can you rewrite this function using recursion. A recursive function is one that calls itself."
   ]
  },
  {
   "cell_type": "code",
   "execution_count": 18,
   "metadata": {
    "collapsed": true
   },
   "outputs": [],
   "source": [
    "def factorial(n):\n",
    "    if n == 1:\n",
    "        return 1\n",
    "    else:\n",
    "        return n * factorial(n-1)"
   ]
  },
  {
   "cell_type": "code",
   "execution_count": 19,
   "metadata": {
    "collapsed": false
   },
   "outputs": [
    {
     "data": {
      "text/plain": [
       "40320"
      ]
     },
     "execution_count": 19,
     "metadata": {},
     "output_type": "execute_result"
    }
   ],
   "source": [
    "factorial(8)"
   ]
  },
  {
   "cell_type": "markdown",
   "metadata": {},
   "source": [
    "### Pair Problem #2: FIBONACCI SERIES\n",
    "\n",
    "Fibonacci series goes like this: 0 1 1 2 3 5 8 13 21 34\n",
    "\n",
    "You start with 0 and 1. Each of the following numbers are the sum of the previous two numbers in the series.\n",
    "\n",
    "Write a function, that given N, will return the Nth number of the Fibonacci series.\n",
    "\n",
    "Once done, can you rewrite this function using recursion."
   ]
  },
  {
   "cell_type": "code",
   "execution_count": 12,
   "metadata": {
    "collapsed": false
   },
   "outputs": [],
   "source": [
    "def fibonacci(x):\n",
    "    if x == 1:\n",
    "        return 0\n",
    "    elif x == 2:\n",
    "        return 1\n",
    "    else:\n",
    "        return fibonacci(x-1) + fibonacci(x-2)"
   ]
  },
  {
   "cell_type": "code",
   "execution_count": 17,
   "metadata": {
    "collapsed": false
   },
   "outputs": [
    {
     "data": {
      "text/plain": [
       "21"
      ]
     },
     "execution_count": 17,
     "metadata": {},
     "output_type": "execute_result"
    }
   ],
   "source": [
    "fibonacci(9)"
   ]
  },
  {
   "cell_type": "code",
   "execution_count": null,
   "metadata": {
    "collapsed": true
   },
   "outputs": [],
   "source": []
  }
 ],
 "metadata": {
  "anaconda-cloud": {},
  "kernelspec": {
   "display_name": "Python [conda root]",
   "language": "python",
   "name": "conda-root-py"
  },
  "language_info": {
   "codemirror_mode": {
    "name": "ipython",
    "version": 2
   },
   "file_extension": ".py",
   "mimetype": "text/x-python",
   "name": "python",
   "nbconvert_exporter": "python",
   "pygments_lexer": "ipython2",
   "version": "2.7.12"
  }
 },
 "nbformat": 4,
 "nbformat_minor": 1
}
