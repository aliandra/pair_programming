{
 "cells": [
  {
   "cell_type": "markdown",
   "metadata": {},
   "source": [
    "## Pair Problem\n",
    "\n",
    "This is a classic problem. This particular wording is varition on the text from Cracking the Coding Interview (question 9.8):\n",
    "\n",
    "For questions 1, 2 and 3, you don't need recursion. For question 4, try to see if you can do it without recursion. Then do question 4 with recursion.\n",
    "\n",
    "1) Given enough pennies (1 cent) and nickels (5 cents), how many ways can you make change for a given amount of cents? Your function will be def ways(cents).\n",
    "\n",
    "Example: ways(12) will return 3. \n",
    "(Because there are three ways: 2 nickels and 2 pennies, 1 nickels and 7 pennies, 12 pennies.)"
   ]
  },
  {
   "cell_type": "code",
   "execution_count": 22,
   "metadata": {
    "collapsed": true
   },
   "outputs": [],
   "source": [
    "def change(x):\n",
    "    max_nickels = x / 5\n",
    "    result = []\n",
    "    for nickels in range(max_nickels + 1):\n",
    "        pennies = x - (5 * nickels)\n",
    "        result.append((nickels, pennies))\n",
    "    return len(result)"
   ]
  },
  {
   "cell_type": "code",
   "execution_count": 23,
   "metadata": {
    "collapsed": false
   },
   "outputs": [
    {
     "data": {
      "text/plain": [
       "4"
      ]
     },
     "execution_count": 23,
     "metadata": {},
     "output_type": "execute_result"
    }
   ],
   "source": [
    "change(15)"
   ]
  },
  {
   "cell_type": "markdown",
   "metadata": {},
   "source": [
    "2) Given enough pennies (1 cent), nickels (5 cents) and dimes (10 cents), how many ways can you make change?"
   ]
  },
  {
   "cell_type": "code",
   "execution_count": 26,
   "metadata": {
    "collapsed": true
   },
   "outputs": [],
   "source": [
    "def change1(x):\n",
    "    max_dimes = x / 10\n",
    "    result = 0\n",
    "    for dime in range(max_dimes + 1):\n",
    "        diff = x - (10 * dime)\n",
    "        pn = change(diff)\n",
    "        result += pn   \n",
    "    return result"
   ]
  },
  {
   "cell_type": "code",
   "execution_count": 29,
   "metadata": {
    "collapsed": false
   },
   "outputs": [
    {
     "data": {
      "text/plain": [
       "12"
      ]
     },
     "execution_count": 29,
     "metadata": {},
     "output_type": "execute_result"
    }
   ],
   "source": [
    "change1(25)"
   ]
  },
  {
   "cell_type": "markdown",
   "metadata": {},
   "source": [
    "3) Given enough pennies (1 cent), nickels (5 cents), dimes (10 cents) and quarters (25 cents), how many ways can you make change?"
   ]
  },
  {
   "cell_type": "code",
   "execution_count": 30,
   "metadata": {
    "collapsed": true
   },
   "outputs": [],
   "source": [
    "def change2(x):\n",
    "    max_quarters = x / 25\n",
    "    result = 0\n",
    "    for quarter in range(max_quarters + 1):\n",
    "        diff = x - (25 * quarter)\n",
    "        pnd = change1(diff)\n",
    "        result += pnd\n",
    "    return result"
   ]
  },
  {
   "cell_type": "code",
   "execution_count": 31,
   "metadata": {
    "collapsed": false
   },
   "outputs": [
    {
     "data": {
      "text/plain": [
       "13"
      ]
     },
     "execution_count": 31,
     "metadata": {},
     "output_type": "execute_result"
    }
   ],
   "source": [
    "change2(25)"
   ]
  },
  {
   "cell_type": "markdown",
   "metadata": {},
   "source": [
    "4) Given an arbitrary set of coin types, how many ways can you make change? Your function will now look like this:\n",
    "\n",
    "def ways(cents,coinTypes):\n",
    "And you will call it this way:\n",
    "\n",
    "ways(100,[25, 10, 5, 1])\n",
    "242"
   ]
  },
  {
   "cell_type": "code",
   "execution_count": 67,
   "metadata": {
    "collapsed": false
   },
   "outputs": [],
   "source": [
    "def change3(x, coins):\n",
    "    if len(coins) == 1:\n",
    "        return 1\n",
    "    else:\n",
    "        max_coin_value = max(coins)\n",
    "        coins.remove(max_coin_value)\n",
    "        max_coins = x / max_coin_value\n",
    "        result = 0\n",
    "        for coin in range(max_coins + 1):\n",
    "            diff = x - (max_coin_value * coin)\n",
    "            result += change3(diff, coins)\n",
    "    return result\n",
    "    "
   ]
  },
  {
   "cell_type": "code",
   "execution_count": 70,
   "metadata": {
    "collapsed": false
   },
   "outputs": [
    {
     "data": {
      "text/plain": [
       "2"
      ]
     },
     "execution_count": 70,
     "metadata": {},
     "output_type": "execute_result"
    }
   ],
   "source": [
    "change3(25, [25, 10])"
   ]
  },
  {
   "cell_type": "code",
   "execution_count": null,
   "metadata": {
    "collapsed": true
   },
   "outputs": [],
   "source": []
  }
 ],
 "metadata": {
  "anaconda-cloud": {},
  "kernelspec": {
   "display_name": "Python [conda root]",
   "language": "python",
   "name": "conda-root-py"
  },
  "language_info": {
   "codemirror_mode": {
    "name": "ipython",
    "version": 2
   },
   "file_extension": ".py",
   "mimetype": "text/x-python",
   "name": "python",
   "nbconvert_exporter": "python",
   "pygments_lexer": "ipython2",
   "version": "2.7.12"
  }
 },
 "nbformat": 4,
 "nbformat_minor": 1
}
