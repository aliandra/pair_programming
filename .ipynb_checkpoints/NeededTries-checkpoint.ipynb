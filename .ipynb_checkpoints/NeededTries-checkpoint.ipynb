{
 "cells": [
  {
   "cell_type": "markdown",
   "metadata": {},
   "source": [
    "There is a tall building and a basket of eggs. If any of the eggs are dropped from a certain cut-off floor or above, it will break. If it's dropped from any of the floors below, it wouldn't break, however many times you dropped it. We need to find the cut-off floor. The question is, given N floors and M eggs, we need to find out how many tries are necessary."
   ]
  },
  {
   "cell_type": "code",
   "execution_count": 19,
   "metadata": {
    "collapsed": false
   },
   "outputs": [],
   "source": [
    "def neededTries(floors, eggs):\n",
    "    if not eggs or not floors:\n",
    "        return 0\n",
    "    elif eggs == 1:\n",
    "        return floors\n",
    "    elif floors == 1:\n",
    "        return 1\n",
    "    else:\n",
    "        return neededTries(floors-1, eggs)\n",
    "    "
   ]
  },
  {
   "cell_type": "code",
   "execution_count": 20,
   "metadata": {
    "collapsed": false
   },
   "outputs": [
    {
     "data": {
      "text/plain": [
       "1"
      ]
     },
     "execution_count": 20,
     "metadata": {},
     "output_type": "execute_result"
    }
   ],
   "source": [
    "neededTries(3, 2)"
   ]
  },
  {
   "cell_type": "code",
   "execution_count": null,
   "metadata": {
    "collapsed": true
   },
   "outputs": [],
   "source": []
  }
 ],
 "metadata": {
  "kernelspec": {
   "display_name": "Python [conda root]",
   "language": "python",
   "name": "conda-root-py"
  },
  "language_info": {
   "codemirror_mode": {
    "name": "ipython",
    "version": 2
   },
   "file_extension": ".py",
   "mimetype": "text/x-python",
   "name": "python",
   "nbconvert_exporter": "python",
   "pygments_lexer": "ipython2",
   "version": "2.7.12"
  }
 },
 "nbformat": 4,
 "nbformat_minor": 1
}
