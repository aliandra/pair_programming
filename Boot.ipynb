{
 "cells": [
  {
   "cell_type": "markdown",
   "metadata": {},
   "source": [
    "### Pair Problem\n",
    "\n",
    "Let's bootstrap! Recall that bootstrapping is sampling with replacement from a dataset to produce a new dataset of the same size. Bootstrapping is used in random forests to guard against overfitting. It also has wide application in many other areas of statistics - let's see two of them.\n",
    "\n",
    "1) Produce a bootstrapped estimate of the median and 95 percent confidence interval over the median of the dependent variable in the attached dataset.\n",
    "\n",
    "2) Use the attached data to run the linear model y = xb. Produce bootstrapped estimates of the model parameters, b, and a 95% confidence interval over them."
   ]
  },
  {
   "cell_type": "code",
   "execution_count": 26,
   "metadata": {
    "collapsed": true
   },
   "outputs": [],
   "source": [
    "import pandas as pd\n",
    "import numpy as np"
   ]
  },
  {
   "cell_type": "code",
   "execution_count": 4,
   "metadata": {
    "collapsed": false
   },
   "outputs": [],
   "source": [
    "data = pd.read_csv(\"../nyc17_ds10/class_lectures/week06-mcnulty3/01-mle/Boot.csv\")"
   ]
  },
  {
   "cell_type": "code",
   "execution_count": 5,
   "metadata": {
    "collapsed": false
   },
   "outputs": [
    {
     "data": {
      "text/plain": [
       "(1000, 7)"
      ]
     },
     "execution_count": 5,
     "metadata": {},
     "output_type": "execute_result"
    }
   ],
   "source": [
    "data.shape"
   ]
  },
  {
   "cell_type": "code",
   "execution_count": 9,
   "metadata": {
    "collapsed": false
   },
   "outputs": [],
   "source": [
    "resample_indicies = np.random.choice(np.arange(0,999), 1000, replace=True)"
   ]
  },
  {
   "cell_type": "code",
   "execution_count": 17,
   "metadata": {
    "collapsed": false
   },
   "outputs": [],
   "source": [
    "resample_df = data.loc[resample_indicies]\n",
    "resample_df.reset_index(inplace=True, drop=True)"
   ]
  },
  {
   "cell_type": "code",
   "execution_count": 18,
   "metadata": {
    "collapsed": false
   },
   "outputs": [
    {
     "data": {
      "text/html": [
       "<div>\n",
       "<table border=\"1\" class=\"dataframe\">\n",
       "  <thead>\n",
       "    <tr style=\"text-align: right;\">\n",
       "      <th></th>\n",
       "      <th>x_1</th>\n",
       "      <th>x_2</th>\n",
       "      <th>x_3</th>\n",
       "      <th>x_4</th>\n",
       "      <th>x_5</th>\n",
       "      <th>Intercept</th>\n",
       "      <th>y</th>\n",
       "    </tr>\n",
       "  </thead>\n",
       "  <tbody>\n",
       "    <tr>\n",
       "      <th>0</th>\n",
       "      <td>-0.138601</td>\n",
       "      <td>-1.067714</td>\n",
       "      <td>-0.198323</td>\n",
       "      <td>0.152992</td>\n",
       "      <td>0.073710</td>\n",
       "      <td>1</td>\n",
       "      <td>0.024624</td>\n",
       "    </tr>\n",
       "    <tr>\n",
       "      <th>1</th>\n",
       "      <td>0.325821</td>\n",
       "      <td>0.593651</td>\n",
       "      <td>-1.028334</td>\n",
       "      <td>-0.430206</td>\n",
       "      <td>0.300058</td>\n",
       "      <td>1</td>\n",
       "      <td>-1.642432</td>\n",
       "    </tr>\n",
       "    <tr>\n",
       "      <th>2</th>\n",
       "      <td>-0.190780</td>\n",
       "      <td>-0.426505</td>\n",
       "      <td>0.109941</td>\n",
       "      <td>0.514271</td>\n",
       "      <td>-0.534016</td>\n",
       "      <td>1</td>\n",
       "      <td>0.370377</td>\n",
       "    </tr>\n",
       "    <tr>\n",
       "      <th>3</th>\n",
       "      <td>-2.463393</td>\n",
       "      <td>0.409299</td>\n",
       "      <td>0.251368</td>\n",
       "      <td>0.470208</td>\n",
       "      <td>0.983090</td>\n",
       "      <td>1</td>\n",
       "      <td>2.512149</td>\n",
       "    </tr>\n",
       "    <tr>\n",
       "      <th>4</th>\n",
       "      <td>1.940826</td>\n",
       "      <td>-0.836142</td>\n",
       "      <td>-1.317544</td>\n",
       "      <td>0.462453</td>\n",
       "      <td>-1.562455</td>\n",
       "      <td>1</td>\n",
       "      <td>-5.860812</td>\n",
       "    </tr>\n",
       "  </tbody>\n",
       "</table>\n",
       "</div>"
      ],
      "text/plain": [
       "        x_1       x_2       x_3       x_4       x_5  Intercept         y\n",
       "0 -0.138601 -1.067714 -0.198323  0.152992  0.073710          1  0.024624\n",
       "1  0.325821  0.593651 -1.028334 -0.430206  0.300058          1 -1.642432\n",
       "2 -0.190780 -0.426505  0.109941  0.514271 -0.534016          1  0.370377\n",
       "3 -2.463393  0.409299  0.251368  0.470208  0.983090          1  2.512149\n",
       "4  1.940826 -0.836142 -1.317544  0.462453 -1.562455          1 -5.860812"
      ]
     },
     "execution_count": 18,
     "metadata": {},
     "output_type": "execute_result"
    }
   ],
   "source": [
    "resample_df.head()"
   ]
  },
  {
   "cell_type": "code",
   "execution_count": 19,
   "metadata": {
    "collapsed": false,
    "scrolled": true
   },
   "outputs": [
    {
     "data": {
      "text/plain": [
       "(1000, 7)"
      ]
     },
     "execution_count": 19,
     "metadata": {},
     "output_type": "execute_result"
    }
   ],
   "source": [
    "resample_df.shape"
   ]
  },
  {
   "cell_type": "code",
   "execution_count": 57,
   "metadata": {
    "collapsed": false
   },
   "outputs": [],
   "source": [
    "def bootstrap(data, num_samples, alpha):\n",
    "    \"\"\"  \"\"\"\n",
    "    median = []\n",
    "    low = []\n",
    "    high = []\n",
    "    n = len(data)\n",
    "    for i in range(1, num_samples):\n",
    "        idx = np.random.choice(np.arange(0,999), 1000, replace=True)\n",
    "        samples = data.loc[idx]\n",
    "        m = samples.y.median()\n",
    "        median.append(m)\n",
    "        stat = np.sort(samples.y)\n",
    "        low.append(stat[int((alpha/2.0)*len(samples))])\n",
    "        high.append(stat[int((1-alpha/2.0)*len(samples))])\n",
    "    return (np.mean(median), np.mean(low), np.mean(high))       "
   ]
  },
  {
   "cell_type": "code",
   "execution_count": 64,
   "metadata": {
    "collapsed": false
   },
   "outputs": [
    {
     "data": {
      "text/plain": [
       "(-0.39497069566421639, -4.059596626937874, 3.3518493159310507)"
      ]
     },
     "execution_count": 64,
     "metadata": {},
     "output_type": "execute_result"
    }
   ],
   "source": [
    "bootstrap(data, 10000, 0.05)"
   ]
  },
  {
   "cell_type": "code",
   "execution_count": 63,
   "metadata": {
    "collapsed": false
   },
   "outputs": [
    {
     "data": {
      "text/plain": [
       "-0.407439743473898"
      ]
     },
     "execution_count": 63,
     "metadata": {},
     "output_type": "execute_result"
    }
   ],
   "source": [
    "data.y.median()"
   ]
  },
  {
   "cell_type": "code",
   "execution_count": 65,
   "metadata": {
    "collapsed": false
   },
   "outputs": [],
   "source": [
    "from sklearn.linear_model import LinearRegression"
   ]
  },
  {
   "cell_type": "code",
   "execution_count": 82,
   "metadata": {
    "collapsed": false
   },
   "outputs": [],
   "source": [
    "X = data.ix[:, :5]\n",
    "y = data['y']"
   ]
  },
  {
   "cell_type": "code",
   "execution_count": null,
   "metadata": {
    "collapsed": false
   },
   "outputs": [],
   "source": []
  },
  {
   "cell_type": "code",
   "execution_count": null,
   "metadata": {
    "collapsed": true
   },
   "outputs": [],
   "source": []
  }
 ],
 "metadata": {
  "anaconda-cloud": {},
  "kernelspec": {
   "display_name": "Python [conda root]",
   "language": "python",
   "name": "conda-root-py"
  },
  "language_info": {
   "codemirror_mode": {
    "name": "ipython",
    "version": 2
   },
   "file_extension": ".py",
   "mimetype": "text/x-python",
   "name": "python",
   "nbconvert_exporter": "python",
   "pygments_lexer": "ipython2",
   "version": "2.7.12"
  }
 },
 "nbformat": 4,
 "nbformat_minor": 1
}
