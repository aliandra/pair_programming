{
 "cells": [
  {
   "cell_type": "markdown",
   "metadata": {},
   "source": [
    "Pair Problem\n",
    "\n",
    "0\t1\t2\t3\t4  \n",
    "o\t\t\t\tx  \n",
    "Above is a gameboard of length 4. You start your coin at position 0 and you want to end at position 4. You have N moves. In each move, you have two options, One space forward or stay put. And you can never step outside the board. And at the end of your last move, you want to be at the last square.\n",
    "\n",
    "Given a board of length D and N moves, calculate the number of possible solutions.\n",
    "\n",
    "For the example above, D = 4. Let's say N = 5. Then we have,\n",
    "\n",
    "FFFFS\n",
    "FFFSF\n",
    "FFSFF\n",
    "FSFFF\n",
    "SFFFF\n",
    "That gives a total of 5 solutions.\n",
    "\n",
    "Write a function \"def Way(n,d)\" that would return the number of possible solutions.\n",
    "\n",
    "See if you can do this without recursion and with recursion."
   ]
  },
  {
   "cell_type": "code",
   "execution_count": 3,
   "metadata": {
    "collapsed": true
   },
   "outputs": [],
   "source": [
    "import itertools"
   ]
  },
  {
   "cell_type": "code",
   "execution_count": 24,
   "metadata": {
    "collapsed": true
   },
   "outputs": [],
   "source": [
    "def way(n, d):\n",
    "    diff = n - d\n",
    "    moves = ['F'] * d + ['S'] * diff\n",
    "    print len(set(itertools.permutations(moves, n)))"
   ]
  },
  {
   "cell_type": "code",
   "execution_count": 55,
   "metadata": {
    "collapsed": false
   },
   "outputs": [
    {
     "name": "stdout",
     "output_type": "stream",
     "text": [
      "56\n"
     ]
    }
   ],
   "source": [
    "way(8, 5)"
   ]
  },
  {
   "cell_type": "code",
   "execution_count": 68,
   "metadata": {
    "collapsed": true
   },
   "outputs": [],
   "source": [
    "def way2(n, d):\n",
    "    if n < d:\n",
    "        return 0\n",
    "    elif n == d or n == 1:\n",
    "        return 1\n",
    "    else:\n",
    "        return way2(n-1, d-1) + way2(n-1, d)\n",
    "        \n",
    "        "
   ]
  },
  {
   "cell_type": "code",
   "execution_count": 69,
   "metadata": {
    "collapsed": false
   },
   "outputs": [
    {
     "data": {
      "text/plain": [
       "64"
      ]
     },
     "execution_count": 69,
     "metadata": {},
     "output_type": "execute_result"
    }
   ],
   "source": [
    "way2(8, 5)"
   ]
  },
  {
   "cell_type": "markdown",
   "metadata": {},
   "source": [
    "Extension\n",
    "\n",
    "If you are done, try this extension:\n",
    "\n",
    "In addition to a forward and stay move, you now also have the option to move backwards.\n",
    "\n",
    "So for D = 2 and N = 5, we would have,\n",
    "\n",
    "FFSSS\n",
    "FFBFS\n",
    "FBSFF\n",
    "Etc.\n",
    "How many possible solutions are there? Keep in mind that the board is limited and you can't step out in either direction.\n",
    "\n",
    "Again, try both recursive and non-recursive solution."
   ]
  },
  {
   "cell_type": "code",
   "execution_count": 60,
   "metadata": {
    "collapsed": false
   },
   "outputs": [],
   "source": [
    "def way3(n, d, b):\n",
    "    if n < d:\n",
    "        return 0\n",
    "    elif n == d or n == 1:\n",
    "        return 1\n",
    "    elif n == 2 and d == 0:\n",
    "        return 2\n",
    "    elif b == d:\n",
    "        return way3(n-1, d-1, b) + way3(n-1, d, b)\n",
    "    else:\n",
    "        return way3(n-1, d-1, b) + way3(n-1, d, b) + way3(n-1, d+1, b)"
   ]
  },
  {
   "cell_type": "code",
   "execution_count": 61,
   "metadata": {
    "collapsed": false
   },
   "outputs": [
    {
     "data": {
      "text/plain": [
       "99"
      ]
     },
     "execution_count": 61,
     "metadata": {},
     "output_type": "execute_result"
    }
   ],
   "source": [
    "way3(8, 5, 5)"
   ]
  },
  {
   "cell_type": "code",
   "execution_count": null,
   "metadata": {
    "collapsed": true
   },
   "outputs": [],
   "source": []
  }
 ],
 "metadata": {
  "anaconda-cloud": {},
  "kernelspec": {
   "display_name": "Python [conda root]",
   "language": "python",
   "name": "conda-root-py"
  },
  "language_info": {
   "codemirror_mode": {
    "name": "ipython",
    "version": 2
   },
   "file_extension": ".py",
   "mimetype": "text/x-python",
   "name": "python",
   "nbconvert_exporter": "python",
   "pygments_lexer": "ipython2",
   "version": "2.7.12"
  }
 },
 "nbformat": 4,
 "nbformat_minor": 1
}
