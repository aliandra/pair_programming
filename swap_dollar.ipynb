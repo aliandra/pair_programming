{
 "cells": [
  {
   "cell_type": "code",
   "execution_count": 3,
   "metadata": {
    "collapsed": false
   },
   "outputs": [],
   "source": [
    "import numpy\n",
    "import matplotlib.pyplot as plt\n",
    "%matplotlib inline"
   ]
  },
  {
   "cell_type": "code",
   "execution_count": 18,
   "metadata": {
    "collapsed": true
   },
   "outputs": [],
   "source": [
    "l = []\n",
    "for y in range(0,100):\n",
    "    x = (199*y - 1) / 98\n",
    "    if x > 0:\n",
    "        l.append((x, y))"
   ]
  },
  {
   "cell_type": "code",
   "execution_count": 19,
   "metadata": {
    "collapsed": false
   },
   "outputs": [
    {
     "name": "stdout",
     "output_type": "stream",
     "text": [
      "[(2, 1), (4, 2), (6, 3), (8, 4), (10, 5), (12, 6), (14, 7), (16, 8), (18, 9), (20, 10), (22, 11), (24, 12), (26, 13), (28, 14), (30, 15), (32, 16), (34, 17), (36, 18), (38, 19), (40, 20), (42, 21), (44, 22), (46, 23), (48, 24), (50, 25), (52, 26), (54, 27), (56, 28), (58, 29), (60, 30), (62, 31), (64, 32), (67, 33), (69, 34), (71, 35), (73, 36), (75, 37), (77, 38), (79, 39), (81, 40), (83, 41), (85, 42), (87, 43), (89, 44), (91, 45), (93, 46), (95, 47), (97, 48), (99, 49), (101, 50), (103, 51), (105, 52), (107, 53), (109, 54), (111, 55), (113, 56), (115, 57), (117, 58), (119, 59), (121, 60), (123, 61), (125, 62), (127, 63), (129, 64), (131, 65), (134, 66), (136, 67), (138, 68), (140, 69), (142, 70), (144, 71), (146, 72), (148, 73), (150, 74), (152, 75), (154, 76), (156, 77), (158, 78), (160, 79), (162, 80), (164, 81), (166, 82), (168, 83), (170, 84), (172, 85), (174, 86), (176, 87), (178, 88), (180, 89), (182, 90), (184, 91), (186, 92), (188, 93), (190, 94), (192, 95), (194, 96), (196, 97), (198, 98), (201, 99)]\n"
     ]
    }
   ],
   "source": [
    "print l"
   ]
  },
  {
   "cell_type": "code",
   "execution_count": null,
   "metadata": {
    "collapsed": true
   },
   "outputs": [],
   "source": []
  }
 ],
 "metadata": {
  "anaconda-cloud": {},
  "kernelspec": {
   "display_name": "Python [conda root]",
   "language": "python",
   "name": "conda-root-py"
  },
  "language_info": {
   "codemirror_mode": {
    "name": "ipython",
    "version": 2
   },
   "file_extension": ".py",
   "mimetype": "text/x-python",
   "name": "python",
   "nbconvert_exporter": "python",
   "pygments_lexer": "ipython2",
   "version": "2.7.12"
  }
 },
 "nbformat": 4,
 "nbformat_minor": 1
}
