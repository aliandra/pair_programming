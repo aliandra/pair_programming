{
 "cells": [
  {
   "cell_type": "markdown",
   "metadata": {},
   "source": [
    "Pair Question\n",
    "\n",
    "For each question below, say yes, no or somewhat for these classification algorithms: KNN, Logistic Regression, Linear SVC, SVC, Decision Tree, Random Forest and Naive Bayes.\n",
    "\n",
    "1) Is it interpretable?  \n",
    "2) Is it inherently multi-class?  \n",
    "3) Is it scalable with large number of features (in terms of execution time and quality of results)?  \n",
    "4) Is it scalable with large number of data points (in terms of execution time and quality of results)?  \n",
    "5) Is it good with diverse (non-homogenous) set of features?  "
   ]
  },
  {
   "cell_type": "markdown",
   "metadata": {},
   "source": [
    "1) Is it interpretable?  \n",
    "    - KNN: no\n",
    "    - Logistic: yes  \n",
    "    - Linear SVC: yes  \n",
    "    - SVC: somewhat  \n",
    "    - Decision Tree: yes  \n",
    "    - Random Forest: somewhat  \n",
    "    - Naive Bayes: somewhat"
   ]
  },
  {
   "cell_type": "markdown",
   "metadata": {},
   "source": [
    "2) Is it inherently multi-class?  \n",
    "    - KNN: yes  \n",
    "    - Logistic: no  \n",
    "    - Linear SVC: no  \n",
    "    - SVC: no  \n",
    "    - Decision Tree: yes  \n",
    "    - Random Forest: yes  \n",
    "    - Naive Bayes: yes"
   ]
  },
  {
   "cell_type": "markdown",
   "metadata": {},
   "source": [
    "3) Is it scalable with large number of features (in terms of execution time and quality of results)?\n",
    "    - KNN: no  \n",
    "    - Logistic: yes  \n",
    "    - Linear SVC: yes  \n",
    "    - SVC: no  \n",
    "    - Decision Tree: no  \n",
    "    - Random Forest: yes  \n",
    "    - Naive Bayes: yes"
   ]
  },
  {
   "cell_type": "markdown",
   "metadata": {},
   "source": [
    "4) Is it scalable with large number of data points (in terms of execution time and quality of results)?\n",
    "    - KNN: somewhat  \n",
    "    - Logistic: yes  \n",
    "    - Linear SVC: yes  \n",
    "    - SVC: no  \n",
    "    - Decision Tree: yes  \n",
    "    - Random Forest: yes  \n",
    "    - Naive Bayes: yes"
   ]
  },
  {
   "cell_type": "markdown",
   "metadata": {},
   "source": [
    "5) Is it good with diverse (non-homogenous) set of features?\n",
    "    - KNN: no  \n",
    "    - Logistic: yes  \n",
    "    - Linear SVC: yes  \n",
    "    - SVC: yes  \n",
    "    - Decision Tree: yes  \n",
    "    - Random Forest: yes  \n",
    "    - Naive Bayes: no"
   ]
  },
  {
   "cell_type": "markdown",
   "metadata": {},
   "source": [
    "Number of Features (Time to fit):\n",
    "- Logistic: Linear  \n",
    "- Linear SVC: Linear  \n",
    "- SVC: Linear  \n",
    "- **Decision Trees: Quadratic**  \n",
    "- **Random Forest: Quadratic or N^3**  \n",
    "- Naive Bayes: Linear  \n",
    "- KNN: Linear  \n",
    "\n",
    "Number of Rows (Time to fit):\n",
    "- Logistic: Linear   \n",
    "- **Linear SVC: Quadratic**   \n",
    "- **SVC: Polynomial > Quadratic**   \n",
    "- Decision Trees: Linear  \n",
    "- Random Forest: Linear  \n",
    "- Naive Bayes: Linear  \n",
    "- KNN: Linear  "
   ]
  },
  {
   "cell_type": "markdown",
   "metadata": {},
   "source": [
    "Balanced Data: Accuracy\n",
    "\n",
    "Imbalanced: Precision and Recall (for the smaller class)"
   ]
  },
  {
   "cell_type": "code",
   "execution_count": null,
   "metadata": {
    "collapsed": true
   },
   "outputs": [],
   "source": []
  }
 ],
 "metadata": {
  "anaconda-cloud": {},
  "kernelspec": {
   "display_name": "Python [conda root]",
   "language": "python",
   "name": "conda-root-py"
  },
  "language_info": {
   "codemirror_mode": {
    "name": "ipython",
    "version": 2
   },
   "file_extension": ".py",
   "mimetype": "text/x-python",
   "name": "python",
   "nbconvert_exporter": "python",
   "pygments_lexer": "ipython2",
   "version": "2.7.12"
  }
 },
 "nbformat": 4,
 "nbformat_minor": 1
}
