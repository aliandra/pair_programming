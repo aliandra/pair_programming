{
 "cells": [
  {
   "cell_type": "markdown",
   "metadata": {},
   "source": [
    "Pair Problem\n",
    "\n",
    "Write a function that takes three arguments:\n",
    "\n",
    "- A list of lists, X_train, where each inner list is of length three and represents the position of a Wookiee in space, along the traditional x, y, and z axes.\n",
    "- A list of strings, y, the same length as the outer list X_train, where each string represents the color of a Wookiee at the corresponding position.\n",
    "- A list of lists, X_test, where each inner list is of length three and represents the position in space of a Wookiee of unknown color.\n",
    "\n",
    "The function should produce a list of strings, the same length as the outer list, representing for each unknown Wookiee the color of the closest known Wookiee.\n",
    "\n",
    "For example:\n",
    "\n",
    "```python\n",
    "X_train = [[1,   1,  1],\n",
    "           [0,   0,  0],\n",
    "           [-1, -1, -1],\n",
    "           [10, 10, 10]]\n",
    "\n",
    "y_train = ['red',\n",
    "           'white',\n",
    "           'blue',\n",
    "           'chartreuse']\n",
    "\n",
    "X_test = [[1.1, 1.1, 1.1]]\n",
    "\n",
    "for result in your_function(X_train, y_train, X_test):\n",
    "    print result\n",
    "## red\n",
    "```\n",
    "\n",
    "Possible extensions:\n",
    "\n",
    "- Does your solution work for any number of features in the training data sets?\n",
    "- Does your solution handle ties?\n",
    "- Can you add another parameter, k, to your solution so that it uses the k nearest Wookiees instead of only the nearest Wookiee?\n",
    "- Can you add to your solution so that it has reasonable behavior if y_train is numeric?  \n",
    "\n",
    "An extension of another kind:\n",
    "\n",
    "- Are you confident that your solution is correct? How can you ensure that it is, and check that it stays correct in the future?"
   ]
  },
  {
   "cell_type": "code",
   "execution_count": 6,
   "metadata": {
    "collapsed": true
   },
   "outputs": [],
   "source": [
    "from sklearn.neighbors import KNeighborsClassifier\n",
    "import math"
   ]
  },
  {
   "cell_type": "code",
   "execution_count": 2,
   "metadata": {
    "collapsed": true
   },
   "outputs": [],
   "source": [
    "def wookiee_color(X_train, y_train, X_test, k=1):\n",
    "    knn = KNeighborsClassifier(n_neighbors=k)\n",
    "    knn.fit(X_train, y_train)\n",
    "    y_pred = knn.predict(X_test)\n",
    "    return y_pred"
   ]
  },
  {
   "cell_type": "code",
   "execution_count": 3,
   "metadata": {
    "collapsed": true
   },
   "outputs": [],
   "source": [
    "X_train = [[1,   1,  1],\n",
    "           [0,   0,  0],\n",
    "           [-1, -1, -1],\n",
    "           [10, 10, 10]]\n",
    "\n",
    "y_train = ['red',\n",
    "           'white',\n",
    "           'blue',\n",
    "           'chartreuse']\n",
    "\n",
    "X_test = [[1.1, 1.1, 1.1]]"
   ]
  },
  {
   "cell_type": "code",
   "execution_count": 4,
   "metadata": {
    "collapsed": false
   },
   "outputs": [
    {
     "data": {
      "text/plain": [
       "array(['red'], \n",
       "      dtype='|S10')"
      ]
     },
     "execution_count": 4,
     "metadata": {},
     "output_type": "execute_result"
    }
   ],
   "source": [
    "wookiee_color(X_train, y_train, X_test)"
   ]
  },
  {
   "cell_type": "code",
   "execution_count": 47,
   "metadata": {
    "collapsed": false
   },
   "outputs": [],
   "source": [
    "def dist(a, b):\n",
    "    d = [(a-b)**2 for a, b in zip(a,b)]\n",
    "    d = math.sqrt(sum(d))\n",
    "    return d\n",
    "\n",
    "\n",
    "def wookiee_color2(X_train, y_train, X_test, k=1):\n",
    "    distances = []\n",
    "    for x in X_train:\n",
    "        distances.append(dist(x, X_test[0]))\n",
    "    print distances\n",
    "    distances.sort()\n",
    "    \n",
    "        "
   ]
  },
  {
   "cell_type": "code",
   "execution_count": 48,
   "metadata": {
    "collapsed": false
   },
   "outputs": [
    {
     "name": "stdout",
     "output_type": "stream",
     "text": [
      "[0.1732050807568879, 1.9052558883257653, 3.6373066958946425, 15.41525218736301]\n",
      "[0.1732050807568879, 1.9052558883257653, 3.6373066958946425, 15.41525218736301]\n"
     ]
    }
   ],
   "source": [
    "wookiee_color2(X_train, y_train, X_test)"
   ]
  },
  {
   "cell_type": "code",
   "execution_count": null,
   "metadata": {
    "collapsed": false
   },
   "outputs": [],
   "source": [
    "dist(X_train[0], X_test[0])"
   ]
  },
  {
   "cell_type": "code",
   "execution_count": null,
   "metadata": {
    "collapsed": true
   },
   "outputs": [],
   "source": []
  }
 ],
 "metadata": {
  "anaconda-cloud": {},
  "kernelspec": {
   "display_name": "Python [conda root]",
   "language": "python",
   "name": "conda-root-py"
  },
  "language_info": {
   "codemirror_mode": {
    "name": "ipython",
    "version": 2
   },
   "file_extension": ".py",
   "mimetype": "text/x-python",
   "name": "python",
   "nbconvert_exporter": "python",
   "pygments_lexer": "ipython2",
   "version": "2.7.12"
  }
 },
 "nbformat": 4,
 "nbformat_minor": 1
}
